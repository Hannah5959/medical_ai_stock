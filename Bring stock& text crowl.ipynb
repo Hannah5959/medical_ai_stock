{
 "cells": [
  {
   "cell_type": "markdown",
   "id": "4bcf342c",
   "metadata": {},
   "source": [
    "# Bring the stock data using library"
   ]
  },
  {
   "cell_type": "code",
   "execution_count": 19,
   "id": "2f8644d3",
   "metadata": {},
   "outputs": [],
   "source": [
    "#pip install pandas-datareader\n",
    "#!pip install py7zr\n",
    "#!pip install newspaper3k\n",
    "#!pip install yfinance\n",
    "#!pip install torch\n",
    "#!pip install yfinance\n",
    "import torch\n",
    "import yfinance as yf\n",
    "import py7zr\n",
    "import numpy as np\n",
    "import pandas as pd\n",
    "from newspaper import Article\n",
    "import pandas_datareader.data as reader\n",
    "import os\n",
    "import time\n",
    "import re\n",
    "import warnings\n",
    "\n",
    "import yfinance as yf\n",
    "\n",
    "warnings.filterwarnings(\"ignore\")"
   ]
  },
  {
   "cell_type": "code",
   "execution_count": null,
   "id": "9b50d6b7",
   "metadata": {},
   "outputs": [],
   "source": [
    "\n",
    "from pandas_datareader.nasdaq_trader import get_nasdaq_symbols\n",
    "nasdaq_list = get_nasdaq_symbols()\n",
    "nasdaq_list.head()"
   ]
  },
  {
   "cell_type": "code",
   "execution_count": 20,
   "id": "c67405d9",
   "metadata": {},
   "outputs": [
    {
     "name": "stderr",
     "output_type": "stream",
     "text": [
      "\r",
      "[*********************100%***********************]  1 of 1 completed"
     ]
    },
    {
     "name": "stdout",
     "output_type": "stream",
     "text": [
      "Price            Close        High         Low        Open     Volume\n",
      "Ticker            AAPL        AAPL        AAPL        AAPL       AAPL\n",
      "Date                                                                 \n",
      "2021-01-04  126.544205  130.651192  123.952888  130.563189  143301900\n",
      "2021-01-05  128.108765  128.822609  125.585897  126.035717   97664900\n",
      "2021-01-06  123.796448  128.147907  123.581318  124.891648  155088000\n",
      "2021-01-07  128.020782  128.715066  125.028548  125.517476  109578200\n",
      "2021-01-08  129.125763  129.692921  127.346060  129.497338  105158200\n"
     ]
    },
    {
     "name": "stderr",
     "output_type": "stream",
     "text": [
      "\n"
     ]
    }
   ],
   "source": [
    "#import data from a certain period, CERTAIN COMPANY\n",
    "ticker = 'AAPL'\n",
    "start_date = '2021-01-01'\n",
    "end_date = '2021-12-31'\n",
    "\n",
    "df = yf.download(ticker, start=start_date, end=end_date)\n",
    "print(df.head())"
   ]
  },
  {
   "cell_type": "markdown",
   "id": "fbdd762d",
   "metadata": {},
   "source": [
    "Since I can't seem to find a separate list for NASDAQ medical/bio stocks,\n",
    "I will go right into text crawling to find out which companies are medical/bio stocks.\n",
    "\n",
    "# Text Crawling\n",
    "\n"
   ]
  },
  {
   "cell_type": "code",
   "execution_count": null,
   "id": "cfdc26d4",
   "metadata": {},
   "outputs": [],
   "source": [
    "# 경로 설정\n",
    "PATH = \"your/directory/path\"\n",
    "READ_PATH = os.path.join(PATH, \"input\")\n",
    "WRITE_PATH = os.path.join(PATH, \"output\")\n",
    "\n",
    "# 데이터 로드\n",
    "nasdaq_df = pd.read_csv(os.path.join(READ_PATH, 'nasdaq_rss_ifo.csv'))\n",
    "\n",
    "# 1. 뉴스 데이터 전처리 및 크롤링\n",
    "def extract_text(url):\n",
    "    try:\n",
    "        article = Article(url)\n",
    "        article.download()\n",
    "        article.parse()\n",
    "        return article.text\n",
    "    except Exception as e:\n",
    "        print(f\"Error processing URL {url}: {e}\")\n",
    "        return None\n",
    "\n",
    "nasdaq_df['text'] = nasdaq_df['url_ifo'].apply(extract_text)\n",
    "nasdaq_df.dropna(subset=['text'], inplace=True)\n",
    "\n",
    "# 크롤링 데이터 저장\n",
    "nasdaq_df.to_csv(os.path.join(WRITE_PATH, 'nasdaq_with_text.csv'), index=False)\n",
    "\n",
    "# 2. 기업 설명 크롤링\n",
    "stock = pd.read_csv(os.path.join(READ_PATH, 'NASDAQ_FC_STK_IEM_IFO.csv'), encoding=\"cp949\")\n",
    "\n",
    "def get_stock_descriptions(ticker_list):\n",
    "    descriptions = []\n",
    "    for ticker in ticker_list:\n",
    "        try:\n",
    "            stock_info = yf.Ticker(ticker).info\n",
    "            descriptions.append(stock_info.get('longBusinessSummary', None))\n",
    "        except Exception as e:\n",
    "            print(f\"Error fetching data for {ticker}: {e}\")\n",
    "            descriptions.append(None)\n",
    "    return pd.DataFrame({'tck_iem_cd': ticker_list, 'description': descriptions})\n",
    "\n",
    "# 종목 설명 데이터 생성\n",
    "tck_iem_cds = stock['tck_iem_cd'].str.strip()\n",
    "stock_description = get_stock_descriptions(tck_iem_cds)\n",
    "stock_description.dropna(inplace=True)\n",
    "\n",
    "# 데이터 저장\n",
    "stock_description.to_csv(os.path.join(WRITE_PATH, 'stock_descriptions.csv'), index=False)\n",
    "\n",
    "# 3. AI 및 의료 관련 주식 필터링\n",
    "# AI 및 의료 관련 키워드\n",
    "keywords = ['AI', 'artificial intelligence', 'medical', 'biotech', 'healthcare']\n",
    "\n",
    "# 뉴스 텍스트와 기업 설명 데이터에서 키워드 검색\n",
    "nasdaq_df['related_to_ai_medical'] = nasdaq_df['text'].apply(\n",
    "    lambda x: any(keyword.lower() in x.lower() for keyword in keywords)\n",
    ")\n",
    "stock_description['related_to_ai_medical'] = stock_description['description'].apply(\n",
    "    lambda x: any(keyword.lower() in x.lower() for keyword in keywords)\n",
    ")\n",
    "\n",
    "# 관련 주식 식별\n",
    "related_news_stocks = nasdaq_df[nasdaq_df['related_to_ai_medical']]['tck_iem_cd'].unique()\n",
    "related_description_stocks = stock_description[stock_description['related_to_ai_medical']]['tck_iem_cd'].unique()\n",
    "\n",
    "# 교집합 및 데이터 정리\n",
    "related_stocks = set(related_news_stocks).union(set(related_description_stocks))\n",
    "related_stocks_df = stock[stock['tck_iem_cd'].isin(related_stocks)]\n",
    "\n",
    "# 결과 저장\n",
    "related_stocks_df.to_csv(os.path.join(WRITE_PATH, 'related_ai_medical_stocks.csv'), index=False)\n"
   ]
  }
 ],
 "metadata": {
  "kernelspec": {
   "display_name": "Python 3 (ipykernel)",
   "language": "python",
   "name": "python3"
  },
  "language_info": {
   "codemirror_mode": {
    "name": "ipython",
    "version": 3
   },
   "file_extension": ".py",
   "mimetype": "text/x-python",
   "name": "python",
   "nbconvert_exporter": "python",
   "pygments_lexer": "ipython3",
   "version": "3.9.16"
  }
 },
 "nbformat": 4,
 "nbformat_minor": 5
}

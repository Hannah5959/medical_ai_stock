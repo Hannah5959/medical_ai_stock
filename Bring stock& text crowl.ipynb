{
 "cells": [
  {
   "cell_type": "markdown",
   "id": "e94b55c4",
   "metadata": {},
   "source": [
    "# Bring the stock data using library"
   ]
  },
  {
   "cell_type": "code",
   "execution_count": 19,
   "id": "6ce5df3b",
   "metadata": {},
   "outputs": [],
   "source": [
    "#pip install pandas-datareader\n",
    "#!pip install py7zr\n",
    "#!pip install newspaper3k\n",
    "#!pip install yfinance\n",
    "#!pip install torch\n",
    "#!pip install yfinance\n",
    "import torch\n",
    "import yfinance as yf\n",
    "import py7zr\n",
    "import numpy as np\n",
    "import pandas as pd\n",
    "from newspaper import Article\n",
    "import pandas_datareader.data as reader\n",
    "import os\n",
    "import time\n",
    "import re\n",
    "import warnings\n",
    "\n",
    "import yfinance as yf\n",
    "\n",
    "warnings.filterwarnings(\"ignore\")"
   ]
  },
  {
   "cell_type": "code",
   "execution_count": null,
   "id": "030645fc",
   "metadata": {},
   "outputs": [],
   "source": [
    "\n",
    "from pandas_datareader.nasdaq_trader import get_nasdaq_symbols\n",
    "nasdaq_list = get_nasdaq_symbols()\n",
    "nasdaq_list.head()"
   ]
  },
  {
   "cell_type": "code",
   "execution_count": 20,
   "id": "191ff3d4",
   "metadata": {},
   "outputs": [
    {
     "name": "stderr",
     "output_type": "stream",
     "text": [
      "\r",
      "[*********************100%***********************]  1 of 1 completed"
     ]
    },
    {
     "name": "stdout",
     "output_type": "stream",
     "text": [
      "Price            Close        High         Low        Open     Volume\n",
      "Ticker            AAPL        AAPL        AAPL        AAPL       AAPL\n",
      "Date                                                                 \n",
      "2021-01-04  126.544205  130.651192  123.952888  130.563189  143301900\n",
      "2021-01-05  128.108765  128.822609  125.585897  126.035717   97664900\n",
      "2021-01-06  123.796448  128.147907  123.581318  124.891648  155088000\n",
      "2021-01-07  128.020782  128.715066  125.028548  125.517476  109578200\n",
      "2021-01-08  129.125763  129.692921  127.346060  129.497338  105158200\n"
     ]
    },
    {
     "name": "stderr",
     "output_type": "stream",
     "text": [
      "\n"
     ]
    }
   ],
   "source": [
    "#import data from a certain period, CERTAIN COMPANY\n",
    "ticker = 'AAPL'\n",
    "start_date = '2021-01-01'\n",
    "end_date = '2021-12-31'\n",
    "\n",
    "df = yf.download(ticker, start=start_date, end=end_date)\n",
    "print(df.head())"
   ]
  },
  {
   "cell_type": "markdown",
   "id": "05f151ca",
   "metadata": {},
   "source": [
    "#Since I can`t seem to find a seperate list for nasdaq medical/ bio stocks,\n",
    "#I will go right into text creawling to find out which company are medical/bio stoks.\n",
    "# Text crawling\n",
    "\n"
   ]
  }
 ],
 "metadata": {
  "kernelspec": {
   "display_name": "Python 3 (ipykernel)",
   "language": "python",
   "name": "python3"
  },
  "language_info": {
   "codemirror_mode": {
    "name": "ipython",
    "version": 3
   },
   "file_extension": ".py",
   "mimetype": "text/x-python",
   "name": "python",
   "nbconvert_exporter": "python",
   "pygments_lexer": "ipython3",
   "version": "3.9.16"
  }
 },
 "nbformat": 4,
 "nbformat_minor": 5
}
